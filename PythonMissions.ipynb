{
 "cells": [
  {
   "cell_type": "markdown",
   "metadata": {},
   "source": [
    "# Running Scripts in Juypter Lab\n",
    "\n",
    "Python environment using Anaconda and Jupyter Notebook."
   ]
  },
  {
   "cell_type": "code",
   "execution_count": 1,
   "metadata": {},
   "outputs": [
    {
     "name": "stdout",
     "output_type": "stream",
     "text": [
      "Hello Tello\n"
     ]
    }
   ],
   "source": [
    "def sayHello(drone):\n",
    "    print('Hello '+ drone)\n",
    "sayHello(\"Tello\")"
   ]
  },
  {
   "cell_type": "markdown",
   "metadata": {},
   "source": [
    "## Tello SDK \n",
    "\n",
    "The Tello SDK documentation can be found at the following link:\n",
    "\n",
    "https://dl-cdn.ryzerobotics.com/downloads/tello/0228/Tello+SDK+Readme.pdf\n",
    "\n",
    "### Download Packet Sender\n",
    "\n",
    "[Packet Sender](https://packetsender.com/) is a free utility to for sending / receiving of network packets. Support for TCP, UDP, and SSL.\n",
    "\n",
    "\n",
    "Default Gateway . . . . . . . . . : 192.168.10.1"
   ]
  },
  {
   "cell_type": "markdown",
   "metadata": {},
   "source": [
    "[socket](https://docs.python.org/3/library/socket.html#module-socket) — Low-level networking interface\n",
    "\n",
    "This module provides access to the BSD socket interface. It is available on all modern Unix systems, Windows, MacOS, and probably additional platforms."
   ]
  },
  {
   "cell_type": "code",
   "execution_count": 2,
   "metadata": {},
   "outputs": [
    {
     "name": "stdout",
     "output_type": "stream",
     "text": [
      "Message sent!\n"
     ]
    }
   ],
   "source": [
    "# This example script demonstrates how to send a basic command over UDP to Tello\n",
    "# We will use PacketSender to simulate Tello for the purposes of this demonstration.\n",
    "# PacketSender makes it easy to test code that can then be run when connected to Tello.\n",
    "# https://packetsender.com/\n",
    "\n",
    "# This script is part of our course on Tello drone programming\n",
    "# https://learn.droneblocks.io/p/tello-drone-programming-with-python/\n",
    "\n",
    "# Import the built-in socket package\n",
    "import socket\n",
    "\n",
    "# IP and port of sending computer\n",
    "# In this case we're sending a UDP packet to PacketSender for demonstration purposes\n",
    "# Be sure to change this to the IP address of the computer running this Python script\n",
    "\n",
    "# IP address of the local computer \n",
    "# - Mac Terminal command ifconfip\n",
    "# - Windows Command Prompt ipconfig\n",
    "simulated_tello_address = ('192.168.10.2', 8889)\n",
    "\n",
    "# Create a UDP connection that we'll send the command to\n",
    "sock = socket.socket(socket.AF_INET, socket.SOCK_DGRAM)\n",
    "\n",
    "# Command variable that we'll send\n",
    "# This \"command\" value is what lets Tello know that we want to enter command mode\n",
    "message = \"command\"\n",
    "\n",
    "# Send the message to Tello\n",
    "sock.sendto(message.encode(), simulated_tello_address)\n",
    "\n",
    "# Print message to screen\n",
    "print(\"Message sent!\")"
   ]
  },
  {
   "cell_type": "markdown",
   "metadata": {},
   "source": [
    "## Sending and Receiving UDP Packets\n",
    "\n",
    "[time](https://docs.python.org/3/library/time.html#module-time) — Time access and conversions\n",
    "\n",
    "This module provides various time-related functions. For related functionality, see also the datetime and calendar modules."
   ]
  },
  {
   "cell_type": "code",
   "execution_count": 3,
   "metadata": {},
   "outputs": [
    {
     "name": "stdout",
     "output_type": "stream",
     "text": [
      "Sending message: command\n",
      "Received message: ok from Tello with IP: ('192.168.10.1', 8889)\n",
      "Sending message: battery?\n",
      "Received message: 39\n",
      " from Tello with IP: ('192.168.10.1', 8889)\n"
     ]
    }
   ],
   "source": [
    "# This example script demonstrates how to send/receive commands to/from Tello\n",
    "# This script is part of our course on Tello drone programming\n",
    "# https://learn.droneblocks.io/p/tello-drone-programming-with-python/\n",
    "\n",
    "# Import the built-in socket and time modules\n",
    "import socket\n",
    "import time\n",
    "\n",
    "# IP and port of Tello\n",
    "tello_address = ('192.168.10.1', 8889)\n",
    "\n",
    "# Create a UDP connection that we'll send the command to\n",
    "sock = socket.socket(socket.AF_INET, socket.SOCK_DGRAM)\n",
    "\n",
    "# Let's be explicit and bind to a local port on our machine where Tello can send messages\n",
    "sock.bind(('', 9000))\n",
    "\n",
    "# Function to send messages to Tello\n",
    "def send(message):\n",
    "  try:\n",
    "    sock.sendto(message.encode(), tello_address)\n",
    "    print(\"Sending message: \" + message)\n",
    "  except Exception as e:\n",
    "    print(\"Error sending: \" + str(e))\n",
    "\n",
    "# Function that listens for messages from Tello and prints them to the screen\n",
    "def receive():\n",
    "  try:\n",
    "    response, ip_address = sock.recvfrom(128)\n",
    "    print(\"Received message: \" + response.decode(encoding='utf-8') + \" from Tello with IP: \" + str(ip_address))\n",
    "  except Exception as e:\n",
    "    print(\"Error receiving: \" + str(e))\n",
    "\n",
    "\n",
    "# Send Tello into command mode\n",
    "send(\"command\")\n",
    "\n",
    "# Receive response from Tello\n",
    "receive()\n",
    "\n",
    "# Delay 3 seconds before we send the next command\n",
    "time.sleep(3)\n",
    "\n",
    "# Ask Tello about battery status\n",
    "send(\"battery?\")\n",
    "\n",
    "# Receive battery response from Tello\n",
    "receive()\n",
    "\n",
    "# Close the UDP socket\n",
    "sock.close()"
   ]
  },
  {
   "cell_type": "markdown",
   "metadata": {},
   "source": [
    "## Tello Missions\n",
    "\n",
    "An Intro to Threading in Python - [Learn more](https://realpython.com/intro-to-python-threading/)\n",
    "\n",
    "Python threading allows you to have different parts of your program run concurrently and can simplify your design.\n",
    "\n",
    "**daemon threads**\n",
    "\n",
    "Daemons are only useful when the main program is running, and it's okay to kill them off once the other non-daemon threads have exited. https://pycozmo.readthedocs.io/en/stable/generated/pycozmo.conn.html#pycozmo.conn.Connection.daemon"
   ]
  },
  {
   "cell_type": "code",
   "execution_count": 4,
   "metadata": {},
   "outputs": [
    {
     "name": "stdout",
     "output_type": "stream",
     "text": [
      "Sending message: command\n",
      "Received message: ok\n",
      "Sending message: takeoff\n",
      "Sending message: up63.5\n",
      "Received message: unknown command: up63.5\n",
      "Received message: ok\n",
      "Sending message: right91.44\n",
      "Received message: unknown command: right91.44\n",
      "Sending message: down127\n",
      "Received message: unknown command: down127\n",
      "Sending message: left91.44\n",
      "Received message: unknown command: left91.44\n",
      "Sending message: up63.5\n",
      "Received message: unknown command: up63.5\n",
      "Sending message: land\n",
      "Received message: ok\n",
      "Error receiving: [WinError 10038] An operation was attempted on something that is not a socket\n"
     ]
    }
   ],
   "source": [
    "# Import the necessary modules\n",
    "import socket\n",
    "import threading\n",
    "import time\n",
    "\n",
    "# IP and port of Tello\n",
    "tello_address = ('192.168.10.1', 8889)\n",
    "\n",
    "# IP and port of local computer\n",
    "local_address = ('', 9000)\n",
    "\n",
    "# Create a UDP connection that we'll send the command to\n",
    "sock = socket.socket(socket.AF_INET, socket.SOCK_DGRAM)\n",
    "\n",
    "# Bind to the local address and port\n",
    "sock.bind(local_address)\n",
    "\n",
    "# Send the message to Tello and allow for a delay in seconds\n",
    "def send(message, delay):\n",
    "  # Try to send the message otherwise print the exception\n",
    "  try:\n",
    "    sock.sendto(message.encode(), tello_address)\n",
    "    print(\"Sending message: \" + message)\n",
    "  except Exception as e:\n",
    "    print(\"Error sending: \" + str(e))\n",
    "\n",
    "  # Delay for a user-defined period of time\n",
    "  time.sleep(delay)\n",
    "\n",
    "# Receive the message from Tello\n",
    "def receive():\n",
    "  # Continuously loop and listen for incoming messages\n",
    "  while True:\n",
    "    # Try to receive the message otherwise print the exception\n",
    "    try:\n",
    "      response, ip_address = sock.recvfrom(128)\n",
    "      print(\"Received message: \" + response.decode(encoding='utf-8'))\n",
    "    except Exception as e:\n",
    "      # If there's an error close the socket and break out of the loop\n",
    "      sock.close()\n",
    "      print(\"Error receiving: \" + str(e))\n",
    "      break\n",
    "\n",
    "# Create and start a listening thread that runs in the background\n",
    "# This utilizes our receive functions and will continuously monitor for incoming messages\n",
    "receiveThread = threading.Thread(target=receive)\n",
    "receiveThread.daemon = True\n",
    "receiveThread.start()\n",
    "\n",
    "#Door mission\n",
    "doorlength = 127\n",
    "doorwidth = 91.44\n",
    "send(\"command\", 3)\n",
    "send(\"takeoff\", 5)\n",
    "send(\"up\" + str(doorlength / 2), 4)\n",
    "send(\"right\" + str(doorwidth), 4)\n",
    "send(\"down\" + str(doorlength), 4)\n",
    "send(\"left\" + str(doorwidth), 4)\n",
    "send(\"up\" + str(doorlength / 2), 4)\n",
    "send(\"land\", 5)\n",
    "sock.close()"
   ]
  },
  {
   "cell_type": "code",
   "execution_count": null,
   "metadata": {},
   "outputs": [],
   "source": []
  }
 ],
 "metadata": {
  "kernelspec": {
   "display_name": "Python 3",
   "language": "python",
   "name": "python3"
  },
  "language_info": {
   "codemirror_mode": {
    "name": "ipython",
    "version": 3
   },
   "file_extension": ".py",
   "mimetype": "text/x-python",
   "name": "python",
   "nbconvert_exporter": "python",
   "pygments_lexer": "ipython3",
   "version": "3.9.0"
  }
 },
 "nbformat": 4,
 "nbformat_minor": 4
}
